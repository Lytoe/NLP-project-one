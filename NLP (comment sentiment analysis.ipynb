{
 "cells": [
  {
   "cell_type": "code",
   "execution_count": 1,
   "id": "ccd0c225-f026-4586-9ff9-3809e439c4ec",
   "metadata": {},
   "outputs": [],
   "source": [
    "import nltk\n",
    "import spacy\n",
    "import pandas as pd   #importing some necessary modules "
   ]
  },
  {
   "cell_type": "code",
   "execution_count": 2,
   "id": "1ce3ec8f-c284-4745-b5a8-3a44826bda81",
   "metadata": {},
   "outputs": [],
   "source": [
    "df = pd.read_csv(\"women reviews on clothes on Amazon.csv\")     #opening the csv file to manipulate"
   ]
  },
  {
   "cell_type": "code",
   "execution_count": 3,
   "id": "5b6a7bb2-e16e-4819-bb24-e5cfb8e45440",
   "metadata": {},
   "outputs": [
    {
     "name": "stdout",
     "output_type": "stream",
     "text": [
      "0       Absolutely wonderful - silky and sexy and comf...\n",
      "1       Love this dress!  it's sooo pretty.  i happene...\n",
      "2       I had such high hopes for this dress and reall...\n",
      "3       I love, love, love this jumpsuit. it's fun, fl...\n",
      "4       This shirt is very flattering to all due to th...\n",
      "                              ...                        \n",
      "6520    I saw this on line this morning and was hesita...\n",
      "6521    I saw these sweaters in the store this fall an...\n",
      "6522    I have purchased many different styles of pilc...\n",
      "6523    Love this skirt... perfect length and cut! pil...\n",
      "6524                Precious tee, washes well, runs large\n",
      "Name: Review Text, Length: 6525, dtype: object\n"
     ]
    }
   ],
   "source": [
    "reviews = df[\"Review Text\"]            #assigning a variable to the review column\n",
    "print(reviews)             "
   ]
  },
  {
   "cell_type": "code",
   "execution_count": 4,
   "id": "ad05da07-83be-458f-bc2a-b6983c5e4681",
   "metadata": {},
   "outputs": [],
   "source": [
    "from nltk.corpus import stopwords           #importing stopwords for preprocessing \n",
    "import string"
   ]
  },
  {
   "cell_type": "code",
   "execution_count": 5,
   "id": "4672a3de-dac4-4bee-98ad-58d435c52ae2",
   "metadata": {},
   "outputs": [],
   "source": [
    "nlp = spacy.load(\"en_core_web_sm\")"
   ]
  },
  {
   "cell_type": "code",
   "execution_count": 6,
   "id": "a77ecf2d-90ba-4ee8-95b1-bcdeba29f4fa",
   "metadata": {},
   "outputs": [
    {
     "name": "stderr",
     "output_type": "stream",
     "text": [
      "[nltk_data] Downloading package stopwords to\n",
      "[nltk_data]     C:\\Users\\egzin\\AppData\\Roaming\\nltk_data...\n",
      "[nltk_data]   Package stopwords is already up-to-date!\n"
     ]
    },
    {
     "data": {
      "text/plain": [
       "True"
      ]
     },
     "execution_count": 6,
     "metadata": {},
     "output_type": "execute_result"
    }
   ],
   "source": [
    "nltk.download(\"stopwords\")"
   ]
  },
  {
   "cell_type": "code",
   "execution_count": 7,
   "id": "ceaaf581-b95e-4bd1-8046-fcbfbf654348",
   "metadata": {},
   "outputs": [
    {
     "name": "stdout",
     "output_type": "stream",
     "text": [
      "<WordListCorpusReader in '.../corpora/stopwords' (not loaded yet)>\n"
     ]
    }
   ],
   "source": [
    "print(stopwords)"
   ]
  },
  {
   "cell_type": "code",
   "execution_count": 8,
   "id": "f6ed79ca-a192-461b-9bff-f29d9a2c51f9",
   "metadata": {},
   "outputs": [],
   "source": [
    "stop_words = set(stopwords.words(\"english\"))"
   ]
  },
  {
   "cell_type": "code",
   "execution_count": 9,
   "id": "127840ec-2b0a-4ec8-9e3c-cff1e8ba62c6",
   "metadata": {},
   "outputs": [],
   "source": [
    "stop_words = set(stopwords.words(\"english\"))"
   ]
  },
  {
   "cell_type": "code",
   "execution_count": 10,
   "id": "a1429e29-2a99-4eb4-94d3-57d474b58a53",
   "metadata": {},
   "outputs": [],
   "source": [
    "   #Converts the text to lowercase, Removes all punctuation.\n",
    "    #Processes the text with a spaCy NLP model to tokenize it.\n",
    "   #Replaces tokens with their lemmatized form, excluding tokens that are stop words.\n",
    "def preprocess_text(text):       \n",
    "    if isinstance(text, str):\n",
    "        text = text.lower()\n",
    "        text = text.translate(str.maketrans(\"\", \"\", string.punctuation))\n",
    "        doc = nlp(text)\n",
    "        text = \" \".join([token.lemma_ for token in doc if token.text not in stop_words])\n",
    "        return text\n",
    "    return \"\"\n",
    "    "
   ]
  },
  {
   "cell_type": "code",
   "execution_count": 11,
   "id": "4ee275c6-b7d9-4944-aaec-070e947217f9",
   "metadata": {},
   "outputs": [],
   "source": [
    "df[\"cleaned_review\"] = df[\"Review Text\"].apply(preprocess_text)     #make a new data frame and applying the privious function"
   ]
  },
  {
   "cell_type": "code",
   "execution_count": 12,
   "id": "db5410ea-77f5-4d33-9228-0d057c88d71f",
   "metadata": {},
   "outputs": [
    {
     "name": "stdout",
     "output_type": "stream",
     "text": [
      "                                         Review Text  \\\n",
      "0  Absolutely wonderful - silky and sexy and comf...   \n",
      "1  Love this dress!  it's sooo pretty.  i happene...   \n",
      "2  I had such high hopes for this dress and reall...   \n",
      "3  I love, love, love this jumpsuit. it's fun, fl...   \n",
      "4  This shirt is very flattering to all due to th...   \n",
      "\n",
      "                                      cleaned_review  \n",
      "0      absolutely wonderful   silky sexy comfortable  \n",
      "1  love dress   sooo pretty   happen find store g...  \n",
      "2  high hope dress really want work initially ord...  \n",
      "3  love love love jumpsuit fun flirty fabulous ev...  \n",
      "4  shirt flattering due adjustable front tie perf...  \n"
     ]
    }
   ],
   "source": [
    "print(df[[\"Review Text\", \"cleaned_review\"]].head())   #just to see a glimps of the both data frames\n"
   ]
  },
  {
   "cell_type": "code",
   "execution_count": 13,
   "id": "2939a284-3e1e-42ea-89fe-44f10b6f73ec",
   "metadata": {},
   "outputs": [
    {
     "name": "stderr",
     "output_type": "stream",
     "text": [
      "[nltk_data] Downloading package vader_lexicon to\n",
      "[nltk_data]     C:\\Users\\egzin\\AppData\\Roaming\\nltk_data...\n",
      "[nltk_data]   Package vader_lexicon is already up-to-date!\n"
     ]
    }
   ],
   "source": [
    "\n",
    "nltk.download(\"vader_lexicon\")    #importing the sentiment analyzer \n",
    "from nltk.sentiment import SentimentIntensityAnalyzer\n",
    "\n",
    "sia = SentimentIntensityAnalyzer()   #making an instance of the analyzer class and naming it sia"
   ]
  },
  {
   "cell_type": "code",
   "execution_count": 14,
   "id": "c8a89890-6305-4842-9bc4-d685d49fc270",
   "metadata": {},
   "outputs": [
    {
     "name": "stdout",
     "output_type": "stream",
     "text": [
      "                                         cleaned_review sentiment\n",
      "1498  follow advice reviewer size however jacket sti...  positive\n",
      "1499  stumble upon accident think turquoise color lo...  positive\n",
      "1500  gorgeous color lovely silk skirt long photo 54...  positive\n",
      "1501  absolutely beautiful  \\r\\n usually not leave r...  positive\n",
      "1502      cute waist little big overall pretty good fit  positive\n",
      "1503  beautiful dress color pleat problem bust area ...  negative\n",
      "1504  try love chic lightweight warm cute leave cut ...  positive\n",
      "1505  confess high hope dress buy stylish modern alt...  positive\n",
      "1506  love shirt surprise review boxy unflattering g...  positive\n",
      "1507  rare find great skirt   flattering unique desi...  positive\n",
      "1508  really like top try wear bottom sleeve stretch...  negative\n",
      "1509  skirt fit curve well adjustable waist helpful ...  positive\n",
      "1510  know product description say oversized underst...  positive\n",
      "1511  agree previous reviewer dress evanthe dress co...  positive\n",
      "1512  buy three summera mint ivory yellow receive lo...  positive\n",
      "1513  order top online color little gray green gorge...  positive\n",
      "1514  love blouse color little sunglass vibrant blac...  positive\n",
      "1515  beautiful dress   return reason other note   c...  positive\n",
      "1516  girl dress gorgeous   ab cup much fabric bust ...  positive\n",
      "1517  really want work order ivory color really want...  positive\n",
      "1518  skirt pleasantly dynamic person print color re...  positive\n",
      "1519  top dress good quality fabric color show photo...  positive\n"
     ]
    }
   ],
   "source": [
    "def get_sentiment(text):             #using polarity scores method of the sentiment analyzer \n",
    "    score = sia.polarity_scores(text)[\"compound\"]l\n",
    "    if score >= 0.05:\n",
    "        return \"positive\"\n",
    "    if score <= -0.05:\n",
    "        return \"negative\"\n",
    "    else:\n",
    "        return \"neutral\"\n",
    "df[\"sentiment\"] = df[\"cleaned_review\"].apply(get_sentiment)\n",
    "print(df[[\"cleaned_review\",\"sentiment\"]][1498:1520])"
   ]
  },
  {
   "cell_type": "code",
   "execution_count": 15,
   "id": "7428e5a6-827d-4655-bfcc-cd7e9516238a",
   "metadata": {},
   "outputs": [
    {
     "name": "stderr",
     "output_type": "stream",
     "text": [
      "C:\\Users\\egzin\\AppData\\Local\\Temp\\ipykernel_14704\\863922905.py:5: FutureWarning: \n",
      "\n",
      "Passing `palette` without assigning `hue` is deprecated and will be removed in v0.14.0. Assign the `x` variable to `hue` and set `legend=False` for the same effect.\n",
      "\n",
      "  sns.countplot(x=df[\"sentiment\"], palette=\"coolwarm\")\n"
     ]
    },
    {
     "data": {
      "image/png": "[encoded data removed]",
      "text/plain": [
       "<Figure size 640x480 with 1 Axes>"
      ]
     },
     "metadata": {},
     "output_type": "display_data"
    }
   ],
   "source": [
    "import seaborn as sns    #data visualization library based on matplotlib\n",
    "import matplotlib.pyplot as plt    \n",
    "\n",
    "# Countplot of sentiment distribution\n",
    "sns.countplot(x=df[\"sentiment\"], palette=\"coolwarm\")\n",
    "plt.title(\"Sentiment Distribution in Reviews\")\n",
    "plt.show()"
   ]
  }
 ],
 "metadata": {
  "kernelspec": {
   "display_name": "Python 3 (ipykernel)",
   "language": "python",
   "name": "python3"
  },
  "language_info": {
   "codemirror_mode": {
    "name": "ipython",
    "version": 3
   },
   "file_extension": ".py",
   "mimetype": "text/x-python",
   "name": "python",
   "nbconvert_exporter": "python",
   "pygments_lexer": "ipython3",
   "version": "3.12.4"
  }
 },
 "nbformat": 4,
 "nbformat_minor": 5
}
